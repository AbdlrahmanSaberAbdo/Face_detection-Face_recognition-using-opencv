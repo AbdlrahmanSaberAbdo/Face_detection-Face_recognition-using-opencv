{
 "cells": [
  {
   "cell_type": "code",
   "execution_count": 7,
   "metadata": {},
   "outputs": [],
   "source": [
    "import numpy as np\n",
    "import os\n",
    "from PIL import Image, ImageFile\n",
    "ImageFile.LOAD_TRUNCATED_IMAGES = True\n",
    "import pip\n",
    "import sys\n",
    "import cv2"
   ]
  },
  {
   "cell_type": "code",
   "execution_count": 8,
   "metadata": {},
   "outputs": [
    {
     "name": "stdout",
     "output_type": "stream",
     "text": [
      "C:\\Users\\abdo\\Desktop\\Anconda\\images\n"
     ]
    }
   ],
   "source": [
    "import numpy as np\n",
    "import os\n",
    "from PIL import Image, ImageFile\n",
    "ImageFile.LOAD_TRUNCATED_IMAGES = True\n",
    "import cv2\n",
    "import pickle\n",
    "\n",
    "frontFace_cascade = cv2.CascadeClassifier('XML/haarcascade_frontalface_alt.xml')\n",
    "recognizer = cv2.face.LBPHFaceRecognizer_create()\n",
    "\n",
    "BaseDir   = os.path.dirname(os.path.abspath('__file__'))\n",
    "imagesDir = os.path.join(BaseDir, 'images') \n",
    "print (imagesDir)\n",
    "\n",
    "current_id = 0\n",
    "label_id = {}\n",
    "y_labels = []\n",
    "x_train  = []\n",
    "\n",
    "\n",
    " \n",
    "for root, dirs, files in os.walk(imagesDir):\n",
    "    for filee in files:\n",
    "        if filee.endswith('png') or filee.endswith('JPG') or filee.endswith('jpeg'):\n",
    "            path  = os.path.join(root, filee)\n",
    "            label = os.path.basename(root).replace(\" \",\"-\").lower() \n",
    "            #print label\n",
    "            pill_image = Image.open(path).convert('L') #convert to GrayScale\n",
    "            image_array = np.array(pill_image, 'uint8')\n",
    "            if not label in label_id:\n",
    "                label_id[label] = current_id\n",
    "                current_id+=1\n",
    "            id_=label_id[label]\n",
    "            faces = frontFace_cascade.detectMultiScale(image_array, 1.2, 5)\n",
    "            for (x, y, w, h) in faces:\n",
    "                roi = image_array[y:y+h, x:x+w]\n",
    "                x_train.append(roi)\n",
    "                y_labels.append(id_)\n",
    "# print (y_labels)\n",
    "with open('label.pickle', 'wb') as f: # f mean file # wb mean write bytes\n",
    "    pickle.dump(label_id, f)\n",
    "    \n",
    "recognizer.train(x_train, np.array(y_labels))\n",
    "recognizer.save(\"trainner2.yml\")\n",
    "\n",
    "# img = imread('johncena.jpg')\n",
    "# gray = cv2.cvtColor(img, cv2.COLOR_BGR2GRAY)\n",
    "\n",
    "#     if cv2.waitkey(20) & 0xff == ord('q'):\n",
    "#         break\n",
    "# cv2.destroyAllWindows()\n"
   ]
  },
  {
   "cell_type": "code",
   "execution_count": null,
   "metadata": {},
   "outputs": [
    {
     "name": "stdout",
     "output_type": "stream",
     "text": [
      "C:\\Users\\abdo\\Desktop\\Anconda\\test_images\n",
      "1\n"
     ]
    }
   ],
   "source": [
    "import pickle \n",
    "frontFace_cascade = cv2.CascadeClassifier('XML/haarcascade_frontalface_alt.xml') \n",
    "recognizer = cv2.face.LBPHFaceRecognizer_create() \n",
    "recognizer.read(\"trainner2.yml\")\n",
    "\n",
    "labels = {\"person_name\":1}\n",
    "\n",
    "size = 160, 160\n",
    "rename = 'bad_img_'\n",
    "\n",
    "with open('label.pickle', 'rb') as f: # rb mean read bytes \n",
    "    og_labels = pickle.load(f)\n",
    "    labels = {v:k for k,v in og_labels.items()} ## v:k mean value\\key\n",
    "\n",
    "BaseDir = os.path.dirname(os.path.abspath('__file__'))\n",
    "afterSiz = os.path.join(BaseDir, 'sized.thumbnail')\n",
    "allImages = os.path.join(BaseDir, 'test_images')\n",
    "i=0\n",
    "for root, dirs, files in os.walk(allImages):\n",
    "    print(root)\n",
    "    for filee in files:\n",
    "        path = os.path.join(root, filee)\n",
    "        img  = cv2.imread(path)\n",
    "        gray = cv2.cvtColor(img, cv2.COLOR_RGB2GRAY)\n",
    "#         gray = Image.open(path).convert('L') \n",
    "        faces = frontFace_cascade.detectMultiScale(gray, 1.2, 5)\n",
    "        for x, y, w, h in faces:\n",
    "            roi_gray = gray[y:y+h, x:x+w]\n",
    "            roi_frame = img[y:y+h, x:x+w]\n",
    "            id_, conf = recognizer.predict(gray)\n",
    "            if(conf >= 55):\n",
    "                print(id_)\n",
    "                name = labels[id_]\n",
    "                color = (255, 255, 255)\n",
    "                stroke = 2\n",
    "                font = cv2.FONT_HERSHEY_SIMPLEX\n",
    "                cv2.putText(img, name, (x,y), font, 1, color, stroke,cv2.LINE_AA) ##font-size : 1\n",
    "        cv2.rectangle(img, (x, y), (x+w, y+h), (255, 0, 0), 2)\n",
    "        cv2.imshow('img', img)\n",
    "        cv2.waitKey(0)\n",
    "        cv2.destroyAllWindows()\n",
    "\n",
    "# faces = frontFace_cascade.detectMultiScale(gray, 1.3, 5)\n",
    "# for x, y, w, h in faces:\n",
    "#     roi_gray = gray[y:y+h, x:x+w]\n",
    "#     roi_frame = img[y:y+h, x:x+w]\n",
    "#     id_, conf = recognizer.predict(gray)\n",
    "#     print (id_)\n",
    "#     print (conf)\n",
    "#     if(conf >= 45):\n",
    "#         print(id_)\n",
    "#         name = labels[id_]\n",
    "#         color = (255, 255, 255)\n",
    "#         stroke = 2\n",
    "#         font = cv2.FONT_HERSHEY_SIMPLEX\n",
    "#         cv2.putText(img, name, (x,y), font, 1, color, stroke,cv2.LINE_AA) ##font-size : 1\n",
    "#     else:\n",
    "#         print(\"no\")\n",
    "\n",
    "# cv2.rectangle(img, (x, y), (x+w, y+h), (255, 0, 0), 2)    \n",
    "# cv2.imshow('img', img)\n",
    "# cv2.waitKey(0)\n",
    "# cv2.destroyAllWindows() "
   ]
  },
  {
   "cell_type": "code",
   "execution_count": null,
   "metadata": {},
   "outputs": [],
   "source": []
  },
  {
   "cell_type": "code",
   "execution_count": null,
   "metadata": {},
   "outputs": [],
   "source": []
  }
 ],
 "metadata": {
  "kernelspec": {
   "display_name": "Python 3",
   "language": "python",
   "name": "python3"
  },
  "language_info": {
   "codemirror_mode": {
    "name": "ipython",
    "version": 3
   },
   "file_extension": ".py",
   "mimetype": "text/x-python",
   "name": "python",
   "nbconvert_exporter": "python",
   "pygments_lexer": "ipython3",
   "version": "3.7.0"
  }
 },
 "nbformat": 4,
 "nbformat_minor": 2
}
